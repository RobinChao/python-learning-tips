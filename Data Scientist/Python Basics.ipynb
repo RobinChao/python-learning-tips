{
 "cells": [
  {
   "cell_type": "markdown",
   "metadata": {
    "nbpresent": {
     "id": "ce483189-e231-4ee6-a339-a2b2af7ad3a1"
    }
   },
   "source": [
    "### Variables"
   ]
  },
  {
   "cell_type": "code",
   "execution_count": 1,
   "metadata": {
    "collapsed": false,
    "nbpresent": {
     "id": "eb4b19fb-66a0-4dc0-a69a-ddbb372c1d2e"
    }
   },
   "outputs": [
    {
     "data": {
      "text/plain": [
       "10"
      ]
     },
     "execution_count": 1,
     "metadata": {},
     "output_type": "execute_result"
    }
   ],
   "source": [
    "# define the variable 'b'\n",
    "b = 10\n",
    "b"
   ]
  },
  {
   "cell_type": "code",
   "execution_count": 2,
   "metadata": {
    "collapsed": false,
    "nbpresent": {
     "id": "0c14ce24-3c68-44f0-a16a-8bfb8a38f201"
    }
   },
   "outputs": [
    {
     "data": {
      "text/plain": [
       "100"
      ]
     },
     "execution_count": 2,
     "metadata": {},
     "output_type": "execute_result"
    }
   ],
   "source": [
    "# define the variable 'a' and set the value is '10'\n",
    "a = 10\n",
    "# reset the variable 'a', set the value is  '100'\n",
    "a = 100\n",
    "a"
   ]
  },
  {
   "cell_type": "markdown",
   "metadata": {
    "collapsed": true,
    "nbpresent": {
     "id": "e98122a2-98a7-4707-b0b7-4b4fdcc19581"
    }
   },
   "source": [
    "### Comments"
   ]
  },
  {
   "cell_type": "code",
   "execution_count": 3,
   "metadata": {
    "collapsed": true,
    "nbpresent": {
     "id": "de64e58d-44d5-4cc0-90ad-97d49ce89cdf"
    }
   },
   "outputs": [],
   "source": [
    "# Here's a comment\n",
    "b = 6\n",
    "# Here's another comment\n",
    "\n",
    "# Another type comment style\n",
    "c = 100 # This is another style comment, Python will ignore this"
   ]
  },
  {
   "cell_type": "markdown",
   "metadata": {
    "nbpresent": {
     "id": "4b94cfe6-09e9-404f-8914-438452464631"
    }
   },
   "source": [
    "### Print Function"
   ]
  },
  {
   "cell_type": "code",
   "execution_count": 4,
   "metadata": {
    "collapsed": false,
    "nbpresent": {
     "id": "881d9c73-7527-4e8e-a240-bb5530904510"
    }
   },
   "outputs": [
    {
     "name": "stdout",
     "output_type": "stream",
     "text": [
      "10\n"
     ]
    },
    {
     "data": {
      "text/plain": [
       "10"
      ]
     },
     "execution_count": 4,
     "metadata": {},
     "output_type": "execute_result"
    }
   ],
   "source": [
    "# print the numbers\n",
    "print(10)\n",
    "\n",
    "# print the variables\n",
    "b = 10\n",
    "b"
   ]
  },
  {
   "cell_type": "markdown",
   "metadata": {
    "nbpresent": {
     "id": "1dac30d1-9b3d-483b-ae98-c30f52f955b8"
    }
   },
   "source": [
    "### Types"
   ]
  },
  {
   "cell_type": "code",
   "execution_count": 5,
   "metadata": {
    "collapsed": false,
    "nbpresent": {
     "id": "dbf1971f-8344-4f1d-8c14-5b5d8438f762"
    }
   },
   "outputs": [
    {
     "name": "stdout",
     "output_type": "stream",
     "text": [
      "This is String!\n"
     ]
    },
    {
     "data": {
      "text/plain": [
       "1.06"
      ]
     },
     "execution_count": 5,
     "metadata": {},
     "output_type": "execute_result"
    }
   ],
   "source": [
    "# Just give the value to variable,noneed set the variable's type\n",
    "s = \"This is String!\"\n",
    "print(s)\n",
    "\n",
    "# This is the float variable\n",
    "d = 1.06\n",
    "d"
   ]
  },
  {
   "cell_type": "markdown",
   "metadata": {
    "nbpresent": {
     "id": "e96cea12-9370-4c44-84d9-dcabb72a247e"
    }
   },
   "source": [
    "### Type Function"
   ]
  },
  {
   "cell_type": "code",
   "execution_count": 6,
   "metadata": {
    "collapsed": false,
    "nbpresent": {
     "id": "8c06b9c8-679f-46a8-b32b-5e4400956556"
    }
   },
   "outputs": [
    {
     "name": "stdout",
     "output_type": "stream",
     "text": [
      "<type 'int'>\n",
      "<type 'float'>\n"
     ]
    }
   ],
   "source": [
    "# Just use the function **type()** to get the variable's type\n",
    "a = 5\n",
    "print(type(a))\n",
    "\n",
    "# Other useage\n",
    "b = 10.6\n",
    "t = type(b)\n",
    "print(t)"
   ]
  },
  {
   "cell_type": "markdown",
   "metadata": {
    "nbpresent": {
     "id": "f5839e24-aeae-4164-bed9-e886755d229b"
    }
   },
   "source": [
    "### Arithmetic Operators"
   ]
  },
  {
   "cell_type": "code",
   "execution_count": 7,
   "metadata": {
    "collapsed": false,
    "nbpresent": {
     "id": "9dd3b0a1-c0b9-49c3-87c0-6ad196f51f82"
    }
   },
   "outputs": [
    {
     "name": "stdout",
     "output_type": "stream",
     "text": [
      "(16, 0, 24, 1)\n"
     ]
    }
   ],
   "source": [
    "# The Arithmetic Operators have four operations\n",
    "# +、-、*、/\n",
    "\n",
    "sixteen = 8 + 8\n",
    "zero = 8 - 8\n",
    "eight = 8\n",
    "sixteen = eight + eight\n",
    "twentyfour = eight + eight + eight \n",
    "zero = eight + eight + eight - (eight * 3)\n",
    "one = eight / eight\n",
    "\n",
    "# Print the values\n",
    "print(sixteen,zero,twentyfour,one)"
   ]
  },
  {
   "cell_type": "markdown",
   "metadata": {
    "nbpresent": {
     "id": "b304665f-1009-4857-a274-b806bd11549f"
    }
   },
   "source": [
    "### Converting Types"
   ]
  },
  {
   "cell_type": "code",
   "execution_count": 8,
   "metadata": {
    "collapsed": false,
    "nbpresent": {
     "id": "086f253c-a2db-49b6-beb5-9e25130bbb44"
    }
   },
   "outputs": [
    {
     "name": "stdout",
     "output_type": "stream",
     "text": [
      "<type 'str'>\n",
      "(10, <type 'int'>)\n",
      "('120', <type 'str'>)\n"
     ]
    }
   ],
   "source": [
    "# Convert types just use the target type func\n",
    "# e.g. \n",
    "a = '10'\n",
    "print(type(a))\n",
    "int_b = int(a)\n",
    "print(int_b, type(int_b))\n",
    "print(str(120),type(str(120)))"
   ]
  },
  {
   "cell_type": "markdown",
   "metadata": {
    "nbpresent": {
     "id": "cd79ca0f-bf8b-4fa9-bf0b-78fea343016b"
    }
   },
   "source": [
    "### Lists"
   ]
  },
  {
   "cell_type": "code",
   "execution_count": 9,
   "metadata": {
    "collapsed": false,
    "nbpresent": {
     "id": "6d4a6995-a2ae-47cf-a056-6bd36ceb1f99"
    }
   },
   "outputs": [
    {
     "name": "stdout",
     "output_type": "stream",
     "text": [
      "['One', 'Two']\n"
     ]
    }
   ],
   "source": [
    "# The lists it means 'Array'\n",
    "# Init the list\n",
    "l = []\n",
    "# add elements\n",
    "l.append(\"One\")\n",
    "l.append(\"Two\")\n",
    "print(l)"
   ]
  },
  {
   "cell_type": "markdown",
   "metadata": {
    "nbpresent": {
     "id": "7a4a9004-ad06-4d8d-b764-a77431754b43"
    }
   },
   "source": [
    "### Create List with Values"
   ]
  },
  {
   "cell_type": "code",
   "execution_count": 10,
   "metadata": {
    "collapsed": false,
    "nbpresent": {
     "id": "9ac446c1-92d6-47fd-8cd9-443fc5ceb412"
    }
   },
   "outputs": [
    {
     "data": {
      "text/plain": [
       "(['One',\n",
       "  'Two',\n",
       "  'Three',\n",
       "  'Four',\n",
       "  'Five',\n",
       "  'Six',\n",
       "  'Seven',\n",
       "  'Eight',\n",
       "  'Nine',\n",
       "  'Ten'],\n",
       " [1, 2, 3, 4, 5])"
      ]
     },
     "execution_count": 10,
     "metadata": {},
     "output_type": "execute_result"
    }
   ],
   "source": [
    "# If have the values, can be init the list with values direct\n",
    "l = [\"One\",\"Two\",\"Three\",\"Four\",\"Five\",\"Six\",\"Seven\",\"Eight\",\"Nine\",\"Ten\"]\n",
    "m = [1, 2, 3, 4, 5]\n",
    "\n",
    "l,m"
   ]
  },
  {
   "cell_type": "markdown",
   "metadata": {
    "nbpresent": {
     "id": "3d91ce3c-2ab7-4c5c-b155-457f3086bd4a"
    }
   },
   "source": [
    "### Mutiple Types In List"
   ]
  },
  {
   "cell_type": "code",
   "execution_count": 11,
   "metadata": {
    "collapsed": false,
    "nbpresent": {
     "id": "25545cf3-cc99-4120-a4cf-3046933242fd"
    }
   },
   "outputs": [
    {
     "data": {
      "text/plain": [
       "[0, 'Zero']"
      ]
     },
     "execution_count": 11,
     "metadata": {},
     "output_type": "execute_result"
    }
   ],
   "source": [
    "# In Python, you can add values of different types to the same list.\n",
    "m = []\n",
    "m.append(0)\n",
    "m.append('Zero')\n",
    "m"
   ]
  },
  {
   "cell_type": "code",
   "execution_count": 12,
   "metadata": {
    "collapsed": false,
    "nbpresent": {
     "id": "4ff08874-66fa-42c6-a77c-7012878117ff"
    }
   },
   "outputs": [
    {
     "data": {
      "text/plain": [
       "[100, 'One Hundred', 100.998]"
      ]
     },
     "execution_count": 12,
     "metadata": {},
     "output_type": "execute_result"
    }
   ],
   "source": [
    "n = [100, 'One Hundred', 100.998]\n",
    "n"
   ]
  },
  {
   "cell_type": "markdown",
   "metadata": {
    "nbpresent": {
     "id": "9575445c-082b-4b45-a2d1-7e32f499cddd"
    }
   },
   "source": [
    "### List Index"
   ]
  },
  {
   "cell_type": "code",
   "execution_count": 13,
   "metadata": {
    "collapsed": false,
    "nbpresent": {
     "id": "5997ea4c-098b-42ca-8d11-01926f751dbc"
    }
   },
   "outputs": [
    {
     "data": {
      "text/plain": [
       "(2011, 2014, 2012)"
      ]
     },
     "execution_count": 13,
     "metadata": {},
     "output_type": "execute_result"
    }
   ],
   "source": [
    "# The beginner index is 0\n",
    "years = [2011,2012,2013,2014]\n",
    "first_value = years[0]\n",
    "last_value = years[3]\n",
    "second_value = years[1]\n",
    "\n",
    "first_value, last_value, second_value"
   ]
  },
  {
   "cell_type": "markdown",
   "metadata": {
    "nbpresent": {
     "id": "3a951540-eb9f-48bc-b6a2-997f64104a0e"
    }
   },
   "source": [
    "### List Length"
   ]
  },
  {
   "cell_type": "code",
   "execution_count": 14,
   "metadata": {
    "collapsed": false,
    "nbpresent": {
     "id": "0848a478-6cc5-4d45-a6f8-32ff53718dd9"
    }
   },
   "outputs": [
    {
     "data": {
      "text/plain": [
       "12"
      ]
     },
     "execution_count": 14,
     "metadata": {},
     "output_type": "execute_result"
    }
   ],
   "source": [
    "# The List length just use the 'len()' function\n",
    "int_months = [1,2,3,4,5,6,7,8,9,10,11,12]\n",
    "length = len(int_months)\n",
    "length"
   ]
  },
  {
   "cell_type": "markdown",
   "metadata": {
    "nbpresent": {
     "id": "e7f3987c-ab12-4b87-84a8-964178ae02dc"
    }
   },
   "source": [
    "### List Slicing"
   ]
  },
  {
   "cell_type": "code",
   "execution_count": 15,
   "metadata": {
    "collapsed": false,
    "nbpresent": {
     "id": "8795d173-963e-4fa9-bbd4-990e3d160367"
    }
   },
   "outputs": [
    {
     "data": {
      "text/plain": [
       "['Mar', 'Apr']"
      ]
     },
     "execution_count": 15,
     "metadata": {},
     "output_type": "execute_result"
    }
   ],
   "source": [
    "# Use the colon ':' to slicing the list, [begin index : end index], \n",
    "months = [\"Jan\", \"Feb\", \"Mar\", \"Apr\", \"May\", \"Jun\", \"Jul\", \"Aug\", \"Sept\", \"Oct\", \"Nov\", \"Dec\"]\n",
    "two_four = months[2:4]\n",
    "two_four"
   ]
  },
  {
   "cell_type": "code",
   "execution_count": 17,
   "metadata": {
    "collapsed": false,
    "nbpresent": {
     "id": "87c9a4cf-c409-4b01-966c-4dc3fbb00eb4"
    }
   },
   "outputs": [
    {
     "data": {
      "text/plain": [
       "['Sept', 'Oct', 'Nov', 'Dec']"
      ]
     },
     "execution_count": 17,
     "metadata": {},
     "output_type": "execute_result"
    }
   ],
   "source": [
    "# Slicing the list begin index 8 to last idnex\n",
    "end_index = len(months)\n",
    "eight_eleven = months[8:end_index]\n",
    "eight_eleven"
   ]
  },
  {
   "cell_type": "code",
   "execution_count": null,
   "metadata": {
    "collapsed": true
   },
   "outputs": [],
   "source": []
  }
 ],
 "metadata": {
  "anaconda-cloud": {},
  "kernelspec": {
   "display_name": "Python [Root]",
   "language": "python",
   "name": "Python [Root]"
  },
  "language_info": {
   "codemirror_mode": {
    "name": "ipython",
    "version": 2
   },
   "file_extension": ".py",
   "mimetype": "text/x-python",
   "name": "python",
   "nbconvert_exporter": "python",
   "pygments_lexer": "ipython2",
   "version": "2.7.12"
  },
  "nbpresent": {
   "slides": {
    "01dc4a65-e5f6-4c77-9861-7cb1fa862509": {
     "id": "01dc4a65-e5f6-4c77-9861-7cb1fa862509",
     "prev": "d35c73fc-0c1f-414f-809d-1268c6039ba7",
     "regions": {
      "3edb7202-7dc4-4bd7-96de-138218ddf819": {
       "attrs": {
        "height": 0.8,
        "width": 0.8,
        "x": 0.1,
        "y": 0.1
       },
       "content": {
        "cell": "0848a478-6cc5-4d45-a6f8-32ff53718dd9",
        "part": "whole"
       },
       "id": "3edb7202-7dc4-4bd7-96de-138218ddf819"
      }
     }
    },
    "0484799f-dca8-40e7-8f9d-72ed2257c857": {
     "id": "0484799f-dca8-40e7-8f9d-72ed2257c857",
     "prev": "3372bf5c-0ed7-4437-b12f-55475b059933",
     "regions": {
      "79c91811-1da2-411d-92cd-5d7eae46a7c0": {
       "attrs": {
        "height": 0.8,
        "width": 0.8,
        "x": 0.1,
        "y": 0.1
       },
       "content": {
        "cell": "0c14ce24-3c68-44f0-a16a-8bfb8a38f201",
        "part": "whole"
       },
       "id": "79c91811-1da2-411d-92cd-5d7eae46a7c0"
      }
     }
    },
    "066a0946-b7f1-4fd2-8595-94ff28132b7a": {
     "id": "066a0946-b7f1-4fd2-8595-94ff28132b7a",
     "prev": "e25d3737-4807-41f1-ae0a-4634aee851ad",
     "regions": {
      "9f152674-990b-4fde-89f8-1c1d28ff7f70": {
       "attrs": {
        "height": 0.8,
        "width": 0.8,
        "x": 0.1,
        "y": 0.1
       },
       "content": {
        "cell": "881d9c73-7527-4e8e-a240-bb5530904510",
        "part": "whole"
       },
       "id": "9f152674-990b-4fde-89f8-1c1d28ff7f70"
      }
     }
    },
    "0c5ef667-01b9-4f53-a5ec-5e1b18323ea5": {
     "id": "0c5ef667-01b9-4f53-a5ec-5e1b18323ea5",
     "prev": "0484799f-dca8-40e7-8f9d-72ed2257c857",
     "regions": {
      "fd10eaba-73cb-45d7-8711-080973544112": {
       "attrs": {
        "height": 0.8,
        "width": 0.8,
        "x": 0.1,
        "y": 0.1
       },
       "content": {
        "cell": "e98122a2-98a7-4707-b0b7-4b4fdcc19581",
        "part": "whole"
       },
       "id": "fd10eaba-73cb-45d7-8711-080973544112"
      }
     }
    },
    "19156b86-2eec-476a-95b7-817d36637083": {
     "id": "19156b86-2eec-476a-95b7-817d36637083",
     "prev": null,
     "regions": {
      "ad5eb739-32b6-4ef1-a419-558e915f274f": {
       "attrs": {
        "height": 0.8,
        "width": 0.8,
        "x": 0.1,
        "y": 0.1
       },
       "content": {
        "cell": "ce483189-e231-4ee6-a339-a2b2af7ad3a1",
        "part": "whole"
       },
       "id": "ad5eb739-32b6-4ef1-a419-558e915f274f"
      }
     }
    },
    "1cfe4985-9a62-4620-be6c-0cc7d399bbf5": {
     "id": "1cfe4985-9a62-4620-be6c-0cc7d399bbf5",
     "prev": "54349113-c3cf-435c-b14b-009125290e14",
     "regions": {
      "d56a3102-15f6-4f4d-b366-7049230590df": {
       "attrs": {
        "height": 0.8,
        "width": 0.8,
        "x": 0.1,
        "y": 0.1
       },
       "content": {
        "cell": "8795d173-963e-4fa9-bbd4-990e3d160367",
        "part": "whole"
       },
       "id": "d56a3102-15f6-4f4d-b366-7049230590df"
      }
     }
    },
    "2acc868e-9d2e-4e1c-911f-e37a5c1fc3f9": {
     "id": "2acc868e-9d2e-4e1c-911f-e37a5c1fc3f9",
     "prev": "7bfd0ea7-4dc1-480a-9843-08280bf6bfdb",
     "regions": {
      "d8eec61a-2ae2-4f1e-811f-5081b98e858f": {
       "attrs": {
        "height": 0.8,
        "width": 0.8,
        "x": 0.1,
        "y": 0.1
       },
       "content": {
        "cell": "b304665f-1009-4857-a274-b806bd11549f",
        "part": "whole"
       },
       "id": "d8eec61a-2ae2-4f1e-811f-5081b98e858f"
      }
     }
    },
    "3372bf5c-0ed7-4437-b12f-55475b059933": {
     "id": "3372bf5c-0ed7-4437-b12f-55475b059933",
     "prev": "19156b86-2eec-476a-95b7-817d36637083",
     "regions": {
      "187e4e2e-ea8b-4044-9ae3-c394cb48ab21": {
       "attrs": {
        "height": 0.8,
        "width": 0.8,
        "x": 0.1,
        "y": 0.1
       },
       "content": {
        "cell": "eb4b19fb-66a0-4dc0-a69a-ddbb372c1d2e",
        "part": "whole"
       },
       "id": "187e4e2e-ea8b-4044-9ae3-c394cb48ab21"
      }
     }
    },
    "342331ba-3b35-4eda-be54-b8b74cd5e7e5": {
     "id": "342331ba-3b35-4eda-be54-b8b74cd5e7e5",
     "prev": "2acc868e-9d2e-4e1c-911f-e37a5c1fc3f9",
     "regions": {
      "40171cbd-3122-4871-8c91-02a659c9ae6b": {
       "attrs": {
        "height": 0.8,
        "width": 0.8,
        "x": 0.1,
        "y": 0.1
       },
       "content": {
        "cell": "086f253c-a2db-49b6-beb5-9e25130bbb44",
        "part": "whole"
       },
       "id": "40171cbd-3122-4871-8c91-02a659c9ae6b"
      }
     }
    },
    "442b54a2-f53e-4679-a32e-fc21a7587c10": {
     "id": "442b54a2-f53e-4679-a32e-fc21a7587c10",
     "prev": "e2995212-f70d-49f7-8340-fe45a00bfa12",
     "regions": {
      "8588f54d-3fef-4bd7-b4b9-c0538deea75c": {
       "attrs": {
        "height": 0.8,
        "width": 0.8,
        "x": 0.1,
        "y": 0.1
       },
       "content": {
        "cell": "4ff08874-66fa-42c6-a77c-7012878117ff",
        "part": "whole"
       },
       "id": "8588f54d-3fef-4bd7-b4b9-c0538deea75c"
      }
     }
    },
    "4beca44c-d1d9-4570-8074-816a62037cd5": {
     "id": "4beca44c-d1d9-4570-8074-816a62037cd5",
     "prev": "442b54a2-f53e-4679-a32e-fc21a7587c10",
     "regions": {
      "944859db-fd6a-402b-87f3-4bd4fc3e62d1": {
       "attrs": {
        "height": 0.8,
        "width": 0.8,
        "x": 0.1,
        "y": 0.1
       },
       "content": {
        "cell": "9575445c-082b-4b45-a2d1-7e32f499cddd",
        "part": "whole"
       },
       "id": "944859db-fd6a-402b-87f3-4bd4fc3e62d1"
      }
     }
    },
    "4c3c44cb-a74b-4f89-9253-e363318a6057": {
     "id": "4c3c44cb-a74b-4f89-9253-e363318a6057",
     "prev": "342331ba-3b35-4eda-be54-b8b74cd5e7e5",
     "regions": {
      "dfc3c1c1-dc8c-4b07-92de-7134ad26667f": {
       "attrs": {
        "height": 0.8,
        "width": 0.8,
        "x": 0.1,
        "y": 0.1
       },
       "content": {
        "cell": "cd79ca0f-bf8b-4fa9-bf0b-78fea343016b",
        "part": "whole"
       },
       "id": "dfc3c1c1-dc8c-4b07-92de-7134ad26667f"
      }
     }
    },
    "54349113-c3cf-435c-b14b-009125290e14": {
     "id": "54349113-c3cf-435c-b14b-009125290e14",
     "prev": "01dc4a65-e5f6-4c77-9861-7cb1fa862509",
     "regions": {
      "da14d789-bce8-4b02-b663-53007510624a": {
       "attrs": {
        "height": 0.8,
        "width": 0.8,
        "x": 0.1,
        "y": 0.1
       },
       "content": {
        "cell": "e7f3987c-ab12-4b87-84a8-964178ae02dc",
        "part": "whole"
       },
       "id": "da14d789-bce8-4b02-b663-53007510624a"
      }
     }
    },
    "628c7b3b-d3fd-4093-9a4a-c2a437bca30c": {
     "id": "628c7b3b-d3fd-4093-9a4a-c2a437bca30c",
     "prev": "9cf0f3ce-baa0-43c2-bf9b-1ea09c91390a",
     "regions": {
      "fb48475f-ad91-4239-b6c6-3f3f94897095": {
       "attrs": {
        "height": 0.8,
        "width": 0.8,
        "x": 0.1,
        "y": 0.1
       },
       "content": {
        "cell": "3d91ce3c-2ab7-4c5c-b155-457f3086bd4a",
        "part": "whole"
       },
       "id": "fb48475f-ad91-4239-b6c6-3f3f94897095"
      }
     }
    },
    "79d5a25f-2317-4fa7-a0d5-0b6b8affc23f": {
     "id": "79d5a25f-2317-4fa7-a0d5-0b6b8affc23f",
     "prev": "4beca44c-d1d9-4570-8074-816a62037cd5",
     "regions": {
      "89baf033-f64c-4aa7-be69-3fc6cf4e23b1": {
       "attrs": {
        "height": 0.8,
        "width": 0.8,
        "x": 0.1,
        "y": 0.1
       },
       "content": {
        "cell": "5997ea4c-098b-42ca-8d11-01926f751dbc",
        "part": "whole"
       },
       "id": "89baf033-f64c-4aa7-be69-3fc6cf4e23b1"
      }
     }
    },
    "7bfd0ea7-4dc1-480a-9843-08280bf6bfdb": {
     "id": "7bfd0ea7-4dc1-480a-9843-08280bf6bfdb",
     "prev": "87daefe2-cd5c-417a-aa76-a685ec9dfc37",
     "regions": {
      "c969a153-39f5-4dc1-a285-96ae22d26bb6": {
       "attrs": {
        "height": 0.8,
        "width": 0.8,
        "x": 0.1,
        "y": 0.1
       },
       "content": {
        "cell": "9dd3b0a1-c0b9-49c3-87c0-6ad196f51f82",
        "part": "whole"
       },
       "id": "c969a153-39f5-4dc1-a285-96ae22d26bb6"
      }
     }
    },
    "7f08b8ec-898d-4eec-9a4e-35336fba2e1e": {
     "id": "7f08b8ec-898d-4eec-9a4e-35336fba2e1e",
     "prev": "4c3c44cb-a74b-4f89-9253-e363318a6057",
     "regions": {
      "a6209a93-2190-440c-9c29-4b17dffd868d": {
       "attrs": {
        "height": 0.8,
        "width": 0.8,
        "x": 0.1,
        "y": 0.1
       },
       "content": {
        "cell": "6d4a6995-a2ae-47cf-a056-6bd36ceb1f99",
        "part": "whole"
       },
       "id": "a6209a93-2190-440c-9c29-4b17dffd868d"
      }
     }
    },
    "87daefe2-cd5c-417a-aa76-a685ec9dfc37": {
     "id": "87daefe2-cd5c-417a-aa76-a685ec9dfc37",
     "prev": "fe5b4b47-97d7-444d-90a0-82af59fb7c39",
     "regions": {
      "f4b18bc2-a515-4fac-a9a5-85ef6fddf934": {
       "attrs": {
        "height": 0.8,
        "width": 0.8,
        "x": 0.1,
        "y": 0.1
       },
       "content": {
        "cell": "f5839e24-aeae-4164-bed9-e886755d229b",
        "part": "whole"
       },
       "id": "f4b18bc2-a515-4fac-a9a5-85ef6fddf934"
      }
     }
    },
    "89749e32-130f-4a3d-a59b-22a09bcf0e33": {
     "id": "89749e32-130f-4a3d-a59b-22a09bcf0e33",
     "prev": "b63fa6ca-efe5-40ad-9b13-4d25da234b5f",
     "regions": {
      "31d33685-e8f9-49cf-b1dc-56c5c492f3e0": {
       "attrs": {
        "height": 0.8,
        "width": 0.8,
        "x": 0.1,
        "y": 0.1
       },
       "content": {
        "cell": "e96cea12-9370-4c44-84d9-dcabb72a247e",
        "part": "whole"
       },
       "id": "31d33685-e8f9-49cf-b1dc-56c5c492f3e0"
      }
     }
    },
    "9cf0f3ce-baa0-43c2-bf9b-1ea09c91390a": {
     "id": "9cf0f3ce-baa0-43c2-bf9b-1ea09c91390a",
     "prev": "d125c6cd-7791-4c74-b29f-548b5afc6c0d",
     "regions": {
      "0f462ef5-119f-41ec-8ff0-2791e8924daa": {
       "attrs": {
        "height": 0.8,
        "width": 0.8,
        "x": 0.1,
        "y": 0.1
       },
       "content": {
        "cell": "9ac446c1-92d6-47fd-8cd9-443fc5ceb412",
        "part": "whole"
       },
       "id": "0f462ef5-119f-41ec-8ff0-2791e8924daa"
      }
     }
    },
    "9edbf710-62be-4e9a-9cc0-9b10d805a058": {
     "id": "9edbf710-62be-4e9a-9cc0-9b10d805a058",
     "prev": "066a0946-b7f1-4fd2-8595-94ff28132b7a",
     "regions": {
      "99941060-af7d-42c6-bbc8-bb28d2acc5a0": {
       "attrs": {
        "height": 0.8,
        "width": 0.8,
        "x": 0.1,
        "y": 0.1
       },
       "content": {
        "cell": "1dac30d1-9b3d-483b-ae98-c30f52f955b8",
        "part": "whole"
       },
       "id": "99941060-af7d-42c6-bbc8-bb28d2acc5a0"
      }
     }
    },
    "a1a2944b-fc35-4e50-8f8f-90ba3662faab": {
     "id": "a1a2944b-fc35-4e50-8f8f-90ba3662faab",
     "prev": "0c5ef667-01b9-4f53-a5ec-5e1b18323ea5",
     "regions": {
      "d957bb63-7547-41a5-b793-47f476a7f187": {
       "attrs": {
        "height": 0.8,
        "width": 0.8,
        "x": 0.1,
        "y": 0.1
       },
       "content": {
        "cell": "de64e58d-44d5-4cc0-90ad-97d49ce89cdf",
        "part": "whole"
       },
       "id": "d957bb63-7547-41a5-b793-47f476a7f187"
      }
     }
    },
    "b63fa6ca-efe5-40ad-9b13-4d25da234b5f": {
     "id": "b63fa6ca-efe5-40ad-9b13-4d25da234b5f",
     "prev": "9edbf710-62be-4e9a-9cc0-9b10d805a058",
     "regions": {
      "6fd513fa-943c-449e-945a-154eeabd42d3": {
       "attrs": {
        "height": 0.8,
        "width": 0.8,
        "x": 0.1,
        "y": 0.1
       },
       "content": {
        "cell": "dbf1971f-8344-4f1d-8c14-5b5d8438f762",
        "part": "whole"
       },
       "id": "6fd513fa-943c-449e-945a-154eeabd42d3"
      }
     }
    },
    "c465a575-0401-4f7c-980d-0126c1676a6a": {
     "id": "c465a575-0401-4f7c-980d-0126c1676a6a",
     "prev": "1cfe4985-9a62-4620-be6c-0cc7d399bbf5",
     "regions": {
      "d6b2cf49-384e-4726-b4b7-fc1880b6ae07": {
       "attrs": {
        "height": 0.8,
        "width": 0.8,
        "x": 0.1,
        "y": 0.1
       },
       "content": {
        "cell": "87c9a4cf-c409-4b01-966c-4dc3fbb00eb4",
        "part": "whole"
       },
       "id": "d6b2cf49-384e-4726-b4b7-fc1880b6ae07"
      }
     }
    },
    "d125c6cd-7791-4c74-b29f-548b5afc6c0d": {
     "id": "d125c6cd-7791-4c74-b29f-548b5afc6c0d",
     "prev": "7f08b8ec-898d-4eec-9a4e-35336fba2e1e",
     "regions": {
      "08f94bc4-bfe3-4627-89f4-0fa02441efe0": {
       "attrs": {
        "height": 0.8,
        "width": 0.8,
        "x": 0.1,
        "y": 0.1
       },
       "content": {
        "cell": "7a4a9004-ad06-4d8d-b764-a77431754b43",
        "part": "whole"
       },
       "id": "08f94bc4-bfe3-4627-89f4-0fa02441efe0"
      }
     }
    },
    "d35c73fc-0c1f-414f-809d-1268c6039ba7": {
     "id": "d35c73fc-0c1f-414f-809d-1268c6039ba7",
     "prev": "79d5a25f-2317-4fa7-a0d5-0b6b8affc23f",
     "regions": {
      "160d8658-08d7-4d7f-b11c-a41ab4929cde": {
       "attrs": {
        "height": 0.8,
        "width": 0.8,
        "x": 0.1,
        "y": 0.1
       },
       "content": {
        "cell": "3a951540-eb9f-48bc-b6a2-997f64104a0e",
        "part": "whole"
       },
       "id": "160d8658-08d7-4d7f-b11c-a41ab4929cde"
      }
     }
    },
    "e25d3737-4807-41f1-ae0a-4634aee851ad": {
     "id": "e25d3737-4807-41f1-ae0a-4634aee851ad",
     "prev": "a1a2944b-fc35-4e50-8f8f-90ba3662faab",
     "regions": {
      "4f1c0bd4-d5c1-4849-bfb7-c0217677968c": {
       "attrs": {
        "height": 0.8,
        "width": 0.8,
        "x": 0.1,
        "y": 0.1
       },
       "content": {
        "cell": "4b94cfe6-09e9-404f-8914-438452464631",
        "part": "whole"
       },
       "id": "4f1c0bd4-d5c1-4849-bfb7-c0217677968c"
      }
     }
    },
    "e2995212-f70d-49f7-8340-fe45a00bfa12": {
     "id": "e2995212-f70d-49f7-8340-fe45a00bfa12",
     "prev": "628c7b3b-d3fd-4093-9a4a-c2a437bca30c",
     "regions": {
      "ade60f81-674f-4794-988a-52a6208361e1": {
       "attrs": {
        "height": 0.8,
        "width": 0.8,
        "x": 0.1,
        "y": 0.1
       },
       "content": {
        "cell": "25545cf3-cc99-4120-a4cf-3046933242fd",
        "part": "whole"
       },
       "id": "ade60f81-674f-4794-988a-52a6208361e1"
      }
     }
    },
    "fe5b4b47-97d7-444d-90a0-82af59fb7c39": {
     "id": "fe5b4b47-97d7-444d-90a0-82af59fb7c39",
     "prev": "89749e32-130f-4a3d-a59b-22a09bcf0e33",
     "regions": {
      "02dd68ea-3f0d-40a6-a451-a6f570ee5173": {
       "attrs": {
        "height": 0.8,
        "width": 0.8,
        "x": 0.1,
        "y": 0.1
       },
       "content": {
        "cell": "8c06b9c8-679f-46a8-b32b-5e4400956556",
        "part": "whole"
       },
       "id": "02dd68ea-3f0d-40a6-a451-a6f570ee5173"
      }
     }
    }
   },
   "themes": {
    "default": "ff9062d0-bae5-4ac8-8d8c-b51548026009",
    "theme": {
     "ff9062d0-bae5-4ac8-8d8c-b51548026009": {
      "backgrounds": {
       "backgroundColor": {
        "background-color": "backgroundColor",
        "id": "backgroundColor"
       }
      },
      "id": "ff9062d0-bae5-4ac8-8d8c-b51548026009",
      "palette": {
       "backgroundColor": {
        "id": "backgroundColor",
        "rgb": [
         0,
         43,
         54
        ]
       },
       "headingColor": {
        "id": "headingColor",
        "rgb": [
         238,
         232,
         213
        ]
       },
       "linkColor": {
        "id": "linkColor",
        "rgb": [
         38,
         139,
         210
        ]
       },
       "mainColor": {
        "id": "mainColor",
        "rgb": [
         147,
         161,
         161
        ]
       }
      },
      "rules": {
       "a": {
        "color": "linkColor"
       },
       "h1": {
        "color": "headingColor",
        "font-family": "Oswald",
        "font-size": 7
       },
       "h2": {
        "color": "headingColor",
        "font-family": "Oswald",
        "font-size": 5
       },
       "h3": {
        "color": "headingColor",
        "font-family": "Oswald",
        "font-size": 3.75
       },
       "h4": {
        "color": "headingColor",
        "font-family": "Oswald",
        "font-size": 3
       },
       "h5": {
        "color": "headingColor",
        "font-family": "Oswald"
       },
       "h6": {
        "color": "headingColor",
        "font-family": "Oswald"
       },
       "h7": {
        "color": "headingColor",
        "font-family": "Oswald"
       },
       "li": {
        "color": "mainColor",
        "font-family": "Lato",
        "font-size": 5
       },
       "p": {
        "color": "mainColor",
        "font-family": "Lato",
        "font-size": 5
       }
      },
      "text-base": {
       "color": "mainColor",
       "font-family": "Lato",
       "font-size": 5
      }
     }
    }
   }
  }
 },
 "nbformat": 4,
 "nbformat_minor": 0
}
