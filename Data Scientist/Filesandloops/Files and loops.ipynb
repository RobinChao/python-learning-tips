{
 "cells": [
  {
   "cell_type": "markdown",
   "metadata": {
    "collapsed": true
   },
   "source": [
    "### Opening Files\n",
    "\n",
    "Just use 'open(name, mode)' function to open the file.\n",
    "* The name of the file, as a string\n",
    "* The mode of working with the file, as a string\n",
    "\n",
    "The 'open()' function return a File object.\n",
    "\n",
    " 模式 | 描述 \n",
    "------------ | ------------- \n",
    "r | 以只读方式打开文件。文件的指针将会放在文件的开头。这是默认模式。\n",
    "rb| 以二进制格式打开一个文件用于只读。文件指针将会放在文件的开头。这是默认模式。\n",
    "r+ | 打开一个文件用于读写。文件指针将会放在文件的开头。 \n",
    "rb+ | \t以二进制格式打开一个文件用于读写。文件指针将会放在文件的开头。\n",
    "w\t | 打开一个文件只用于写入。如果该文件已存在则将其覆盖。如果该文件不存在，创建新文件。\n",
    "wb | \t以二进制格式打开一个文件只用于写入。如果该文件已存在则将其覆盖。如果该文件不存在，创建新文件。\n",
    "w+\t | 打开一个文件用于读写。如果该文件已存在则将其覆盖。如果该文件不存在，创建新文件。\n",
    "wb+\t | 以二进制格式打开一个文件用于读写。如果该文件已存在则将其覆盖。如果该文件不存在，创建新文件。\n",
    "a\t | 打开一个文件用于追加。如果该文件已存在，文件指针将会放在文件的结尾。也就是说，新的内容将会被写入到已有内容之后。如果该文件不存在，创建新文件进行写入。\n",
    "ab\t | 以二进制格式打开一个文件用于追加。如果该文件已存在，文件指针将会放在文件的结尾。也就是说，新的内容将会被写入到已有内容之后。如果该文件不存在，创建新文件进行写入。\n",
    "a+\t | 打开一个文件用于读写。如果该文件已存在，文件指针将会放在文件的结尾。文件打开时会是追加模式。如果该文件不存在，创建新文件用于读写。\n",
    "ab+\t | 以二进制格式打开一个文件用于追加。如果该文件已存在，文件指针将会放在文件的结尾。如果该文件不存在，创建新文件用于读写。\n"
   ]
  },
  {
   "cell_type": "code",
   "execution_count": 5,
   "metadata": {
    "collapsed": false
   },
   "outputs": [
    {
     "data": {
      "text/plain": [
       "<open file 'crime_rates.csv', mode 'r' at 0x103d5edb0>"
      ]
     },
     "execution_count": 5,
     "metadata": {},
     "output_type": "execute_result"
    }
   ],
   "source": [
    "# open the 'crime_rates.csv' file in current path\n",
    "f = open('crime_rates.csv','r')\n",
    "f"
   ]
  },
  {
   "cell_type": "code",
   "execution_count": 7,
   "metadata": {
    "collapsed": false
   },
   "outputs": [
    {
     "data": {
      "text/plain": [
       "file"
      ]
     },
     "execution_count": 7,
     "metadata": {},
     "output_type": "execute_result"
    }
   ],
   "source": [
    "type(f)"
   ]
  },
  {
   "cell_type": "markdown",
   "metadata": {},
   "source": [
    "### Reading in Files\n",
    "\n",
    "Just use the File object's `read()` method to reading the files"
   ]
  },
  {
   "cell_type": "code",
   "execution_count": 6,
   "metadata": {
    "collapsed": false
   },
   "outputs": [
    {
     "data": {
      "text/plain": [
       "'Albuquerque,749\\nAnaheim,371\\nAnchorage,828\\nArlington,503\\nAtlanta,1379\\nAurora,425\\nAustin,408\\nBakersfield,542\\nBaltimore,1405\\nBoston,835\\nBuffalo,1288\\nCharlotte-Mecklenburg,647\\nCincinnati,974\\nCleveland,1383\\nColorado Springs,455\\nCorpus Christi,658\\nDallas,675\\nDenver,615\\nDetroit,2122\\nEl Paso,423\\nFort Wayne,362\\nFort Worth,587\\nFresno,543\\nGreensboro,563\\nHenderson,168\\nHouston,992\\nIndianapolis,1185\\nJacksonville,617\\nJersey City,734\\nKansas City,1263\\nLas Vegas,784\\nLexington,352\\nLincoln,397\\nLong Beach,575\\nLos Angeles,481\\nLouisville Metro,598\\nMemphis,1750\\nMesa,399\\nMiami,1172\\nMilwaukee,1294\\nMinneapolis,992\\nMobile,522\\nNashville,1216\\nNew Orleans,815\\nNew York,639\\nNewark,1154\\nOakland,1993\\nOklahoma City,919\\nOmaha,594\\nPhiladelphia,1160\\nPhoenix,636\\nPittsburgh,752\\nPlano,130\\nPortland,517\\nRaleigh,423\\nRiverside,443\\nSacramento,738\\nSan Antonio,503\\nSan Diego,413\\nSan Francisco,704\\nSan Jose,363\\nSanta Ana,401\\nSeattle,597\\nSt. Louis,1776\\nSt. Paul,722\\nStockton,1548\\nTampa,616\\nToledo,1171\\nTucson,724\\nTulsa,990\\nVirginia Beach,169\\nWashington,1177\\nWichita,742'"
      ]
     },
     "execution_count": 6,
     "metadata": {},
     "output_type": "execute_result"
    }
   ],
   "source": [
    "# reading the file\n",
    "g = f.read()\n",
    "g"
   ]
  },
  {
   "cell_type": "code",
   "execution_count": 8,
   "metadata": {
    "collapsed": false
   },
   "outputs": [
    {
     "data": {
      "text/plain": [
       "str"
      ]
     },
     "execution_count": 8,
     "metadata": {},
     "output_type": "execute_result"
    }
   ],
   "source": [
    "type(g)"
   ]
  },
  {
   "cell_type": "markdown",
   "metadata": {},
   "source": [
    "### Splitting\n",
    "\n",
    "To make the string object data more useful, should convert it into a list.\n",
    "\n",
    "Splitting the string just use the string's `split()` method, the pramater is the split charactor."
   ]
  },
  {
   "cell_type": "code",
   "execution_count": 9,
   "metadata": {
    "collapsed": false
   },
   "outputs": [
    {
     "data": {
      "text/plain": [
       "['Albuquerque,749',\n",
       " 'Anaheim,371',\n",
       " 'Anchorage,828',\n",
       " 'Arlington,503',\n",
       " 'Atlanta,1379',\n",
       " 'Aurora,425',\n",
       " 'Austin,408',\n",
       " 'Bakersfield,542',\n",
       " 'Baltimore,1405',\n",
       " 'Boston,835',\n",
       " 'Buffalo,1288',\n",
       " 'Charlotte-Mecklenburg,647',\n",
       " 'Cincinnati,974',\n",
       " 'Cleveland,1383',\n",
       " 'Colorado Springs,455',\n",
       " 'Corpus Christi,658',\n",
       " 'Dallas,675',\n",
       " 'Denver,615',\n",
       " 'Detroit,2122',\n",
       " 'El Paso,423',\n",
       " 'Fort Wayne,362',\n",
       " 'Fort Worth,587',\n",
       " 'Fresno,543',\n",
       " 'Greensboro,563',\n",
       " 'Henderson,168',\n",
       " 'Houston,992',\n",
       " 'Indianapolis,1185',\n",
       " 'Jacksonville,617',\n",
       " 'Jersey City,734',\n",
       " 'Kansas City,1263',\n",
       " 'Las Vegas,784',\n",
       " 'Lexington,352',\n",
       " 'Lincoln,397',\n",
       " 'Long Beach,575',\n",
       " 'Los Angeles,481',\n",
       " 'Louisville Metro,598',\n",
       " 'Memphis,1750',\n",
       " 'Mesa,399',\n",
       " 'Miami,1172',\n",
       " 'Milwaukee,1294',\n",
       " 'Minneapolis,992',\n",
       " 'Mobile,522',\n",
       " 'Nashville,1216',\n",
       " 'New Orleans,815',\n",
       " 'New York,639',\n",
       " 'Newark,1154',\n",
       " 'Oakland,1993',\n",
       " 'Oklahoma City,919',\n",
       " 'Omaha,594',\n",
       " 'Philadelphia,1160',\n",
       " 'Phoenix,636',\n",
       " 'Pittsburgh,752',\n",
       " 'Plano,130',\n",
       " 'Portland,517',\n",
       " 'Raleigh,423',\n",
       " 'Riverside,443',\n",
       " 'Sacramento,738',\n",
       " 'San Antonio,503',\n",
       " 'San Diego,413',\n",
       " 'San Francisco,704',\n",
       " 'San Jose,363',\n",
       " 'Santa Ana,401',\n",
       " 'Seattle,597',\n",
       " 'St. Louis,1776',\n",
       " 'St. Paul,722',\n",
       " 'Stockton,1548',\n",
       " 'Tampa,616',\n",
       " 'Toledo,1171',\n",
       " 'Tucson,724',\n",
       " 'Tulsa,990',\n",
       " 'Virginia Beach,169',\n",
       " 'Washington,1177',\n",
       " 'Wichita,742']"
      ]
     },
     "execution_count": 9,
     "metadata": {},
     "output_type": "execute_result"
    }
   ],
   "source": [
    "# split the string object `g`\n",
    "split_list = g.split('\\n')\n",
    "split_list"
   ]
  },
  {
   "cell_type": "markdown",
   "metadata": {},
   "source": [
    "### Loops\n",
    "\n",
    "just use `for in` fo enumrator the list"
   ]
  },
  {
   "cell_type": "code",
   "execution_count": 11,
   "metadata": {
    "collapsed": false
   },
   "outputs": [
    {
     "name": "stdout",
     "output_type": "stream",
     "text": [
      "Albuquerque,749\n",
      "Anaheim,371\n",
      "Anchorage,828\n",
      "Arlington,503\n",
      "Atlanta,1379\n",
      "Aurora,425\n",
      "Austin,408\n",
      "Bakersfield,542\n",
      "Baltimore,1405\n",
      "Boston,835\n",
      "Buffalo,1288\n",
      "Charlotte-Mecklenburg,647\n",
      "Cincinnati,974\n",
      "Cleveland,1383\n",
      "Colorado Springs,455\n",
      "Corpus Christi,658\n",
      "Dallas,675\n",
      "Denver,615\n",
      "Detroit,2122\n",
      "El Paso,423\n",
      "Fort Wayne,362\n",
      "Fort Worth,587\n",
      "Fresno,543\n",
      "Greensboro,563\n",
      "Henderson,168\n",
      "Houston,992\n",
      "Indianapolis,1185\n",
      "Jacksonville,617\n",
      "Jersey City,734\n",
      "Kansas City,1263\n",
      "Las Vegas,784\n",
      "Lexington,352\n",
      "Lincoln,397\n",
      "Long Beach,575\n",
      "Los Angeles,481\n",
      "Louisville Metro,598\n",
      "Memphis,1750\n",
      "Mesa,399\n",
      "Miami,1172\n",
      "Milwaukee,1294\n",
      "Minneapolis,992\n",
      "Mobile,522\n",
      "Nashville,1216\n",
      "New Orleans,815\n",
      "New York,639\n",
      "Newark,1154\n",
      "Oakland,1993\n",
      "Oklahoma City,919\n",
      "Omaha,594\n",
      "Philadelphia,1160\n",
      "Phoenix,636\n",
      "Pittsburgh,752\n",
      "Plano,130\n",
      "Portland,517\n",
      "Raleigh,423\n",
      "Riverside,443\n",
      "Sacramento,738\n",
      "San Antonio,503\n",
      "San Diego,413\n",
      "San Francisco,704\n",
      "San Jose,363\n",
      "Santa Ana,401\n",
      "Seattle,597\n",
      "St. Louis,1776\n",
      "St. Paul,722\n",
      "Stockton,1548\n",
      "Tampa,616\n",
      "Toledo,1171\n",
      "Tucson,724\n",
      "Tulsa,990\n",
      "Virginia Beach,169\n",
      "Washington,1177\n",
      "Wichita,742\n"
     ]
    }
   ],
   "source": [
    "# Loops\n",
    "for item in split_list:\n",
    "    print(item) "
   ]
  },
  {
   "cell_type": "markdown",
   "metadata": {},
   "source": [
    "### List of lists\n",
    "\n",
    "we can split the list to get the sublist, and then use `split()` to split the sublist"
   ]
  },
  {
   "cell_type": "code",
   "execution_count": 12,
   "metadata": {
    "collapsed": false
   },
   "outputs": [
    {
     "data": {
      "text/plain": [
       "[['Albuquerque', '749'],\n",
       " ['Anaheim', '371'],\n",
       " ['Anchorage', '828'],\n",
       " ['Arlington', '503'],\n",
       " ['Atlanta', '1379'],\n",
       " ['Aurora', '425'],\n",
       " ['Austin', '408'],\n",
       " ['Bakersfield', '542'],\n",
       " ['Baltimore', '1405'],\n",
       " ['Boston', '835'],\n",
       " ['Buffalo', '1288'],\n",
       " ['Charlotte-Mecklenburg', '647'],\n",
       " ['Cincinnati', '974'],\n",
       " ['Cleveland', '1383'],\n",
       " ['Colorado Springs', '455'],\n",
       " ['Corpus Christi', '658'],\n",
       " ['Dallas', '675'],\n",
       " ['Denver', '615'],\n",
       " ['Detroit', '2122'],\n",
       " ['El Paso', '423'],\n",
       " ['Fort Wayne', '362'],\n",
       " ['Fort Worth', '587'],\n",
       " ['Fresno', '543'],\n",
       " ['Greensboro', '563'],\n",
       " ['Henderson', '168'],\n",
       " ['Houston', '992'],\n",
       " ['Indianapolis', '1185'],\n",
       " ['Jacksonville', '617'],\n",
       " ['Jersey City', '734'],\n",
       " ['Kansas City', '1263'],\n",
       " ['Las Vegas', '784'],\n",
       " ['Lexington', '352'],\n",
       " ['Lincoln', '397'],\n",
       " ['Long Beach', '575'],\n",
       " ['Los Angeles', '481'],\n",
       " ['Louisville Metro', '598'],\n",
       " ['Memphis', '1750'],\n",
       " ['Mesa', '399'],\n",
       " ['Miami', '1172'],\n",
       " ['Milwaukee', '1294'],\n",
       " ['Minneapolis', '992'],\n",
       " ['Mobile', '522'],\n",
       " ['Nashville', '1216'],\n",
       " ['New Orleans', '815'],\n",
       " ['New York', '639'],\n",
       " ['Newark', '1154'],\n",
       " ['Oakland', '1993'],\n",
       " ['Oklahoma City', '919'],\n",
       " ['Omaha', '594'],\n",
       " ['Philadelphia', '1160'],\n",
       " ['Phoenix', '636'],\n",
       " ['Pittsburgh', '752'],\n",
       " ['Plano', '130'],\n",
       " ['Portland', '517'],\n",
       " ['Raleigh', '423'],\n",
       " ['Riverside', '443'],\n",
       " ['Sacramento', '738'],\n",
       " ['San Antonio', '503'],\n",
       " ['San Diego', '413'],\n",
       " ['San Francisco', '704'],\n",
       " ['San Jose', '363'],\n",
       " ['Santa Ana', '401'],\n",
       " ['Seattle', '597'],\n",
       " ['St. Louis', '1776'],\n",
       " ['St. Paul', '722'],\n",
       " ['Stockton', '1548'],\n",
       " ['Tampa', '616'],\n",
       " ['Toledo', '1171'],\n",
       " ['Tucson', '724'],\n",
       " ['Tulsa', '990'],\n",
       " ['Virginia Beach', '169'],\n",
       " ['Washington', '1177'],\n",
       " ['Wichita', '742']]"
      ]
     },
     "execution_count": 12,
     "metadata": {},
     "output_type": "execute_result"
    }
   ],
   "source": [
    "# List of lists\n",
    "final_list = []\n",
    "for item in split_list:\n",
    "    splited = item.split(',')\n",
    "    final_list.append(splited)\n",
    "final_list"
   ]
  },
  {
   "cell_type": "markdown",
   "metadata": {},
   "source": [
    "### Accessing Elements In A List Of Lists, The Manual Way"
   ]
  },
  {
   "cell_type": "code",
   "execution_count": 19,
   "metadata": {
    "collapsed": false
   },
   "outputs": [
    {
     "data": {
      "text/plain": [
       "['Albuquerque',\n",
       " 'Anaheim',\n",
       " 'Anchorage',\n",
       " 'Arlington',\n",
       " 'Atlanta',\n",
       " 'Aurora',\n",
       " 'Austin',\n",
       " 'Bakersfield',\n",
       " 'Baltimore',\n",
       " 'Boston',\n",
       " 'Buffalo',\n",
       " 'Charlotte-Mecklenburg',\n",
       " 'Cincinnati',\n",
       " 'Cleveland',\n",
       " 'Colorado Springs',\n",
       " 'Corpus Christi',\n",
       " 'Dallas',\n",
       " 'Denver',\n",
       " 'Detroit',\n",
       " 'El Paso',\n",
       " 'Fort Wayne',\n",
       " 'Fort Worth',\n",
       " 'Fresno',\n",
       " 'Greensboro',\n",
       " 'Henderson',\n",
       " 'Houston',\n",
       " 'Indianapolis',\n",
       " 'Jacksonville',\n",
       " 'Jersey City',\n",
       " 'Kansas City',\n",
       " 'Las Vegas',\n",
       " 'Lexington',\n",
       " 'Lincoln',\n",
       " 'Long Beach',\n",
       " 'Los Angeles',\n",
       " 'Louisville Metro',\n",
       " 'Memphis',\n",
       " 'Mesa',\n",
       " 'Miami',\n",
       " 'Milwaukee',\n",
       " 'Minneapolis',\n",
       " 'Mobile',\n",
       " 'Nashville',\n",
       " 'New Orleans',\n",
       " 'New York',\n",
       " 'Newark',\n",
       " 'Oakland',\n",
       " 'Oklahoma City',\n",
       " 'Omaha',\n",
       " 'Philadelphia',\n",
       " 'Phoenix',\n",
       " 'Pittsburgh',\n",
       " 'Plano',\n",
       " 'Portland',\n",
       " 'Raleigh',\n",
       " 'Riverside',\n",
       " 'Sacramento',\n",
       " 'San Antonio',\n",
       " 'San Diego',\n",
       " 'San Francisco',\n",
       " 'San Jose',\n",
       " 'Santa Ana',\n",
       " 'Seattle',\n",
       " 'St. Louis',\n",
       " 'St. Paul',\n",
       " 'Stockton',\n",
       " 'Tampa',\n",
       " 'Toledo',\n",
       " 'Tucson',\n",
       " 'Tulsa',\n",
       " 'Virginia Beach',\n",
       " 'Washington',\n",
       " 'Wichita']"
      ]
     },
     "execution_count": 19,
     "metadata": {},
     "output_type": "execute_result"
    }
   ],
   "source": [
    "# get the city names\n",
    "city_names = []\n",
    "for i in range(len(final_list)):\n",
    "    city = final_list[i][0]\n",
    "    city_names.append(city)\n",
    "    \n",
    "city_names"
   ]
  },
  {
   "cell_type": "code",
   "execution_count": null,
   "metadata": {
    "collapsed": true
   },
   "outputs": [],
   "source": []
  }
 ],
 "metadata": {
  "kernelspec": {
   "display_name": "Python [Root]",
   "language": "python",
   "name": "Python [Root]"
  },
  "language_info": {
   "codemirror_mode": {
    "name": "ipython",
    "version": 2
   },
   "file_extension": ".py",
   "mimetype": "text/x-python",
   "name": "python",
   "nbconvert_exporter": "python",
   "pygments_lexer": "ipython2",
   "version": "2.7.12"
  }
 },
 "nbformat": 4,
 "nbformat_minor": 0
}
